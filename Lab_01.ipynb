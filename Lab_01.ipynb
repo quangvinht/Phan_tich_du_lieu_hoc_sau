{
  "cells": [
    {
      "cell_type": "markdown",
      "metadata": {
        "colab_type": "text",
        "id": "view-in-github"
      },
      "source": [
        "<a href=\"https://colab.research.google.com/github/quangvinht/Phan_tich_du_lieu_hoc_sau/blob/main/Lab_01.ipynb\" target=\"_parent\"><img src=\"https://colab.research.google.com/assets/colab-badge.svg\" alt=\"Open In Colab\"/></a>"
      ]
    },
    {
      "cell_type": "code",
      "execution_count": 22,
      "metadata": {
        "colab": {
          "base_uri": "https://localhost:8080/"
        },
        "id": "yDTbmjSt3Y7G",
        "outputId": "85000b04-184a-4ca6-d468-2b73c2bf5a12"
      },
      "outputs": [
        {
          "name": "stdout",
          "output_type": "stream",
          "text": [
            "    STT   T1   L1   H1   S1   V1   X1   D1   N1   T2  ...   X6   D6   N6  GT  \\\n",
            "0     1  7.2  7.3  6.3  7.3  7.0  7.9  7.3  5.5  8.4  ...  6.6  7.6  5.9   F   \n",
            "1     2  5.4  3.9  3.9  4.0  5.4  5.4  5.3  2.8  6.3  ...  6.6  6.1  4.4   M   \n",
            "2     3  5.6  6.8  7.2  7.5  4.3  7.4  5.8  3.2  5.0  ...  7.9  8.1  4.6   M   \n",
            "3     4  6.6  6.4  5.3  6.9  5.4  7.3  6.4  5.8  5.1  ...  7.1  7.3  7.4   M   \n",
            "4     5  6.0  5.0  6.0  7.3  6.5  7.7  7.9  6.1  5.4  ...  6.1  7.5  7.2   M   \n",
            "..  ...  ...  ...  ...  ...  ...  ...  ...  ...  ...  ...  ...  ...  ...  ..   \n",
            "95   96  8.6  6.9  7.4  8.8  7.6  5.8  7.3  5.7  8.9  ...  6.3  6.1  6.2   F   \n",
            "96   97  3.7  5.4  6.0  5.1  5.5  3.9  6.1  4.4  4.1  ...  7.9  7.5  4.4   F   \n",
            "97   98  8.8  5.5  7.4  7.7  6.2  7.3  8.1  4.5  9.5  ...  9.6  8.4  5.8   M   \n",
            "98   99  2.7  1.8  3.4  5.3  4.5  7.9  4.9  3.8  2.8  ...  6.6  5.2  5.9   M   \n",
            "99  100  4.1  5.2  4.9  5.3  5.5  5.4  7.2  5.4  4.4  ...  5.6  6.6  5.8   M   \n",
            "\n",
            "     DT   KV   DH1   DH2   DH3  KT  \n",
            "0   0.0  2NT  3.25  3.25  4.50  A1  \n",
            "1   0.0    1  6.00  4.00  3.50   C  \n",
            "2   0.0    1  5.00  6.75  4.00   C  \n",
            "3   0.0    1  4.25  4.25  5.25  D1  \n",
            "4   0.0  2NT  4.25  4.50  5.00   A  \n",
            "..  ...  ...   ...   ...   ...  ..  \n",
            "95  0.0    1  5.25  1.50  6.25   C  \n",
            "96  0.0    1  5.25  3.75  4.75   C  \n",
            "97  0.0  2NT  7.00  8.00  4.00   C  \n",
            "98  0.0    1  5.00  3.50  5.50   C  \n",
            "99  0.0  2NT  5.25  2.50  4.25   C  \n",
            "\n",
            "[100 rows x 56 columns]\n"
          ]
        }
      ],
      "source": [
        "\n",
        "import numpy as numpy\n",
        "import pandas as pd\n",
        "\n",
        "df = pd.read_csv('dulieuxettuyendaihoc.csv')\n",
        "\n",
        "# print(\"in ra từ file csv:\")\n",
        "# print(df) \n",
        "# print(\"in ra 10 dòng đầu:\") \n",
        "# print(df.head(10))\n",
        "# print(\"in ra 10 dòng cuối:\") \n",
        "# print(df.tail(10))\n",
        "df['DT']=df['DT'].fillna(value = 0)\n",
        "print(df)\n",
        "\n"
      ]
    }
  ],
  "metadata": {
    "colab": {
      "authorship_tag": "ABX9TyPpFPRXPooA8yx6X+buPHYy",
      "include_colab_link": true,
      "name": "Lab_01.ipynb",
      "provenance": []
    },
    "kernelspec": {
      "display_name": "Python 3",
      "name": "python3"
    },
    "language_info": {
      "codemirror_mode": {
        "name": "ipython",
        "version": 3
      },
      "file_extension": ".py",
      "mimetype": "text/x-python",
      "name": "python",
      "nbconvert_exporter": "python",
      "pygments_lexer": "ipython3",
      "version": "3.9.7"
    }
  },
  "nbformat": 4,
  "nbformat_minor": 0
}
