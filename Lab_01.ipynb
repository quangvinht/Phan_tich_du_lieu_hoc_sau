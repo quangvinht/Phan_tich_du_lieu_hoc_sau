{
  "nbformat": 4,
  "nbformat_minor": 0,
  "metadata": {
    "colab": {
      "name": "Lab_01.ipynb",
      "provenance": [],
      "authorship_tag": "ABX9TyPpFPRXPooA8yx6X+buPHYy",
      "include_colab_link": true
    },
    "kernelspec": {
      "name": "python3",
      "display_name": "Python 3"
    },
    "language_info": {
      "name": "python"
    }
  },
  "cells": [
    {
      "cell_type": "markdown",
      "metadata": {
        "id": "view-in-github",
        "colab_type": "text"
      },
      "source": [
        "<a href=\"https://colab.research.google.com/github/quangvinht/Phan_tich_du_lieu_hoc_sau/blob/main/Lab_01.ipynb\" target=\"_parent\"><img src=\"https://colab.research.google.com/assets/colab-badge.svg\" alt=\"Open In Colab\"/></a>"
      ]
    },
    {
      "cell_type": "code",
      "execution_count": 1,
      "metadata": {
        "colab": {
          "base_uri": "https://localhost:8080/"
        },
        "id": "yDTbmjSt3Y7G",
        "outputId": "85000b04-184a-4ca6-d468-2b73c2bf5a12"
      },
      "outputs": [
        {
          "output_type": "stream",
          "name": "stdout",
          "text": [
            "XIn chào\n"
          ]
        }
      ],
      "source": [
        "print(\"XIn chào\")\n"
      ]
    }
  ]
}