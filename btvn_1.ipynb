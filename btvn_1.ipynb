{
  "nbformat": 4,
  "nbformat_minor": 0,
  "metadata": {
    "colab": {
      "name": "btvn_1.ipynb",
      "provenance": [],
      "authorship_tag": "ABX9TyOQblKyk7zuJuuHfMqc8nNE",
      "include_colab_link": true
    },
    "kernelspec": {
      "name": "python3",
      "display_name": "Python 3"
    },
    "language_info": {
      "name": "python"
    }
  },
  "cells": [
    {
      "cell_type": "markdown",
      "metadata": {
        "id": "view-in-github",
        "colab_type": "text"
      },
      "source": [
        "<a href=\"https://colab.research.google.com/github/quangvinht/Phan_tich_du_lieu_hoc_sau/blob/main/btvn_1.ipynb\" target=\"_parent\"><img src=\"https://colab.research.google.com/assets/colab-badge.svg\" alt=\"Open In Colab\"/></a>"
      ]
    },
    {
      "cell_type": "code",
      "execution_count": 3,
      "metadata": {
        "id": "v7gn7og29C_X"
      },
      "outputs": [],
      "source": [
        "# 1. Thêm các thư viện cần thiết\n",
        "import numpy as np\n",
        "import matplotlib.pyplot as plt\n",
        "from keras.models import Sequential\n",
        "from keras.layers import Dense, Dropout, Activation, Flatten\n",
        "from keras.layers import Conv2D, MaxPooling2D\n",
        "from keras.utils import np_utils\n",
        "from keras.datasets import mnist"
      ]
    },
    {
      "cell_type": "markdown",
      "source": [
        "Load dữ liệu từ MNIST dataset, bao gồm 60.000 training set và 10.000 test set. Sau đó chia bộ traning set thành 2: 50.000 cho training set và 10.000 dữ liệu cho validation set."
      ],
      "metadata": {
        "id": "ZR-4exJV-SGh"
      }
    },
    {
      "cell_type": "code",
      "source": [
        "# 2. Load dữ liệu MNIST\n",
        "(X_train, y_train), (X_test, y_test) = mnist.load_data()\n",
        "X_val, y_val = X_train[50000:60000,:], y_train[50000:60000]\n",
        "X_train, y_train = X_train[:50000,:], y_train[:50000]\n",
        "print(X_train.shape)"
      ],
      "metadata": {
        "colab": {
          "base_uri": "https://localhost:8080/"
        },
        "id": "W_dhRVGv-SiA",
        "outputId": "3a1b0384-62d3-4550-f089-d7546be1a5b9"
      },
      "execution_count": 4,
      "outputs": [
        {
          "output_type": "stream",
          "name": "stdout",
          "text": [
            "Downloading data from https://storage.googleapis.com/tensorflow/tf-keras-datasets/mnist.npz\n",
            "11493376/11490434 [==============================] - 0s 0us/step\n",
            "11501568/11490434 [==============================] - 0s 0us/step\n",
            "(50000, 28, 28)\n"
          ]
        }
      ]
    },
    {
      "cell_type": "markdown",
      "source": [
        "Dữ liệu input cho mô hình convolutional neural network là 1 tensor 4 chiều (N, W, H, D), trong bài này là ảnh xám nên W = H = 28, D = 1, N là số lượng ảnh cho mỗi lần training. Do dữ liệu ảnh ở trên có kích thước là (N, 28, 28) tức là (N, W, H) nên rần reshape lại thành kích thước N 28 28 * 1 để giống kích thước mà keras yêu cầu."
      ],
      "metadata": {
        "id": "4KbUw48U-Wxm"
      }
    },
    {
      "cell_type": "code",
      "source": [
        "# 3. Reshape lại dữ liệu cho đúng kích thước mà keras yêu cầu\n",
        "X_train = X_train.reshape(X_train.shape[0], 28, 28, 1)\n",
        "X_val = X_val.reshape(X_val.shape[0], 28, 28, 1)\n",
        "X_test = X_test.reshape(X_test.shape[0], 28, 28, 1)"
      ],
      "metadata": {
        "id": "QAo7pxwn-Xa7"
      },
      "execution_count": 5,
      "outputs": []
    },
    {
      "cell_type": "markdown",
      "source": [
        "Bước này chuyển đổi one-hot encoding label Y của ảnh ví dụ số 5 thành vector [0, 0, 0, 0, 0, 1, 0, 0, 0, 0]"
      ],
      "metadata": {
        "id": "9cITXTkt-htC"
      }
    },
    {
      "cell_type": "code",
      "source": [
        "# 4. One hot encoding label (Y)\n",
        "Y_train = np_utils.to_categorical(y_train, 10)\n",
        "Y_val = np_utils.to_categorical(y_val, 10)\n",
        "Y_test = np_utils.to_categorical(y_test, 10)\n",
        "print('Dữ liệu y ban đầu ', y_train[0])\n",
        "print('Dữ liệu y sau one-hot encoding ',Y_train[0])"
      ],
      "metadata": {
        "colab": {
          "base_uri": "https://localhost:8080/"
        },
        "id": "QGJzT0ne-gEy",
        "outputId": "1509e0fe-c8f2-419a-f3da-47b908073ec6"
      },
      "execution_count": 6,
      "outputs": [
        {
          "output_type": "stream",
          "name": "stdout",
          "text": [
            "Dữ liệu y ban đầu  5\n",
            "Dữ liệu y sau one-hot encoding  [0. 0. 0. 0. 0. 1. 0. 0. 0. 0.]\n"
          ]
        }
      ]
    },
    {
      "cell_type": "markdown",
      "source": [
        "Bước này định nghĩa model:"
      ],
      "metadata": {
        "id": "KYo0hFFq-oSk"
      }
    },
    {
      "cell_type": "markdown",
      "source": [
        "1.Model = Sequential() để nói cho keras là ta sẽ xếp các layer lên nhau để tạo model. Ví dụ input -> CONV -> POOL -> CONV -> POOL -> FLATTEN -> FC -> OUTPUT"
      ],
      "metadata": {
        "id": "px4Namzz-wLi"
      }
    },
    {
      "cell_type": "markdown",
      "source": [
        "2.Ở layer đầu tiên cần chỉ rõ input_shape của ảnh, input_shape = (W, H, D), ta dùng ảnh xám kích thước (28,28) nên input_shape = (28, 28, 1)"
      ],
      "metadata": {
        "id": "3RyOvplJ-y1r"
      }
    },
    {
      "cell_type": "markdown",
      "source": [
        "3.Khi thêm Convolutional Layer ta cần chỉ rõ các tham số: K (số lượng layer), kernel size (W, H), hàm activation sử dụng. cấu trúc: model.add(Conv2D(K, (W, H), activation='tên_hàm_activation'))"
      ],
      "metadata": {
        "id": "a-PXx-A3-0-E"
      }
    },
    {
      "cell_type": "markdown",
      "source": [
        "4.Khi thêm Maxpooling Layer cần chỉ rõ size của kernel, model.add(MaxPooling2D(pool_size=(W, H)))"
      ],
      "metadata": {
        "id": "cOgFim_t-2uK"
      }
    },
    {
      "cell_type": "markdown",
      "source": [
        "5.Bước Flatten chuyển từ tensor sang vector chỉ cần thêm flatten layer."
      ],
      "metadata": {
        "id": "OLx0ly88-4Qg"
      }
    },
    {
      "cell_type": "markdown",
      "source": [
        "6.Để thêm Fully Connected Layer (FC) cần chỉ rõ số lượng node trong layer và hàm activation sử dụng trong layer, cấu trúc: model.add(Dense(số_lượng_node activation='tên_hàm activation'))"
      ],
      "metadata": {
        "id": "7J0dbAvQ-6Db"
      }
    },
    {
      "cell_type": "code",
      "source": [
        "# 5. Định nghĩa model\n",
        "model = Sequential()\n",
        " \n",
        "# Thêm Convolutional layer với 32 kernel, kích thước kernel 3*3\n",
        "# dùng hàm sigmoid làm activation và chỉ rõ input_shape cho layer đầu tiên\n",
        "model.add(Conv2D(32, (3, 3), activation='sigmoid', input_shape=(28,28,1)))\n",
        "\n",
        "# Thêm Convolutional layer\n",
        "model.add(Conv2D(32, (3, 3), activation='sigmoid')) \n",
        "\n",
        "\n",
        "# Thêm Max pooling layer\n",
        "model.add(MaxPooling2D(pool_size=(2,2)))\n",
        "\n",
        "# Flatten layer chuyển từ tensor sang vector\n",
        "model.add(Flatten())\n",
        "\n",
        "# Thêm Fully Connected layer với 128 nodes và dùng hàm sigmoid\n",
        "model.add(Dense(128, activation='sigmoid'))\n",
        "\n",
        "# Output layer với 10 node và dùng softmax function để chuyển sang xác xuất.\n",
        "model.add(Dense(10, activation='softmax'))"
      ],
      "metadata": {
        "id": "EgpBsLiX_CDA"
      },
      "execution_count": 8,
      "outputs": []
    },
    {
      "cell_type": "code",
      "source": [
        "# 6. Compile model, chỉ rõ hàm loss_function nào được sử dụng, phương thức \n",
        "# đùng để tối ưu hàm loss function.\n",
        "model.compile(loss='categorical_crossentropy',\n",
        "              optimizer='adam',\n",
        "              metrics=['accuracy'])"
      ],
      "metadata": {
        "id": "di_jPutS_EEA"
      },
      "execution_count": 9,
      "outputs": []
    },
    {
      "cell_type": "code",
      "source": [
        "# 7. Thực hiện train model với data\n",
        "H = model.fit(X_train, Y_train, validation_data=(X_val, Y_val),\n",
        "          batch_size=32, epochs=10, verbose=1)"
      ],
      "metadata": {
        "colab": {
          "base_uri": "https://localhost:8080/"
        },
        "id": "4U7NvjNn_GyY",
        "outputId": "9ca38ee2-0916-4d37-b885-1b5d26a62973"
      },
      "execution_count": 10,
      "outputs": [
        {
          "output_type": "stream",
          "name": "stdout",
          "text": [
            "Epoch 1/10\n",
            "1563/1563 [==============================] - 95s 60ms/step - loss: 0.2780 - accuracy: 0.9188 - val_loss: 0.0784 - val_accuracy: 0.9794\n",
            "Epoch 2/10\n",
            "1563/1563 [==============================] - 94s 60ms/step - loss: 0.0602 - accuracy: 0.9830 - val_loss: 0.0538 - val_accuracy: 0.9840\n",
            "Epoch 3/10\n",
            "1563/1563 [==============================] - 97s 62ms/step - loss: 0.0396 - accuracy: 0.9884 - val_loss: 0.0450 - val_accuracy: 0.9870\n",
            "Epoch 4/10\n",
            "1563/1563 [==============================] - 97s 62ms/step - loss: 0.0277 - accuracy: 0.9922 - val_loss: 0.0442 - val_accuracy: 0.9864\n",
            "Epoch 5/10\n",
            "1563/1563 [==============================] - 97s 62ms/step - loss: 0.0189 - accuracy: 0.9944 - val_loss: 0.0435 - val_accuracy: 0.9867\n",
            "Epoch 6/10\n",
            "1563/1563 [==============================] - 97s 62ms/step - loss: 0.0137 - accuracy: 0.9962 - val_loss: 0.0396 - val_accuracy: 0.9880\n",
            "Epoch 7/10\n",
            "1563/1563 [==============================] - 97s 62ms/step - loss: 0.0112 - accuracy: 0.9971 - val_loss: 0.0437 - val_accuracy: 0.9882\n",
            "Epoch 8/10\n",
            "1563/1563 [==============================] - 97s 62ms/step - loss: 0.0077 - accuracy: 0.9980 - val_loss: 0.0419 - val_accuracy: 0.9880\n",
            "Epoch 9/10\n",
            "1563/1563 [==============================] - 96s 62ms/step - loss: 0.0048 - accuracy: 0.9989 - val_loss: 0.0499 - val_accuracy: 0.9874\n",
            "Epoch 10/10\n",
            "1563/1563 [==============================] - 97s 62ms/step - loss: 0.0050 - accuracy: 0.9986 - val_loss: 0.0413 - val_accuracy: 0.9888\n"
          ]
        }
      ]
    },
    {
      "cell_type": "code",
      "source": [
        "# 8. Vẽ đồ thị loss, accuracy của traning set và validation set\n",
        "fig = plt.figure()\n",
        "numOfEpoch = 10\n",
        "plt.plot(np.arange(0, numOfEpoch), H.history['loss'], label='training loss')\n",
        "plt.plot(np.arange(0, numOfEpoch), H.history['val_loss'], label='validation loss')\n",
        "plt.plot(np.arange(0, numOfEpoch), H.history['accuracy'], label='accuracy')\n",
        "plt.plot(np.arange(0, numOfEpoch), H.history['val_accuracy'], label='validation accuracy')\n",
        "plt.title('Accuracy and Loss')\n",
        "plt.xlabel('Epoch')\n",
        "plt.ylabel('Loss|Accuracy')\n",
        "plt.legend()"
      ],
      "metadata": {
        "colab": {
          "base_uri": "https://localhost:8080/",
          "height": 312
        },
        "id": "avAcTmRVC9DI",
        "outputId": "24bb3538-7590-4588-8bfd-3c0fb1388939"
      },
      "execution_count": 13,
      "outputs": [
        {
          "output_type": "execute_result",
          "data": {
            "text/plain": [
              "<matplotlib.legend.Legend at 0x7fd9c5be9490>"
            ]
          },
          "metadata": {},
          "execution_count": 13
        },
        {
          "output_type": "display_data",
          "data": {
            "text/plain": [
              "<Figure size 432x288 with 1 Axes>"
            ],
            "image/png": "[encoded data removed]"
          },
          "metadata": {
            "needs_background": "light"
          }
        }
      ]
    },
    {
      "cell_type": "code",
      "source": [
        "# 9. Đánh giá model với dữ liệu test set\n",
        "score = model.evaluate(X_test, Y_test, verbose=0)\n",
        "print(score)"
      ],
      "metadata": {
        "colab": {
          "base_uri": "https://localhost:8080/"
        },
        "id": "6fz3r-QKDYAg",
        "outputId": "76e6d674-ba94-4a47-b3ba-137a5de6b5fe"
      },
      "execution_count": 15,
      "outputs": [
        {
          "output_type": "stream",
          "name": "stdout",
          "text": [
            "[0.038900215178728104, 0.9876999855041504]\n"
          ]
        }
      ]
    },
    {
      "cell_type": "markdown",
      "source": [
        "Ta sẽ dùng kết quả đánh giá của mode với test set để làm kết quả cuối cùng của model. Tức model của chúng ta dữ đoán chữ số có độ chính xác 98.92% với MNIST dataset. Nghĩa là dự đoán khoảng 100 ảnh thì sai 1 ảnh."
      ],
      "metadata": {
        "id": "6rsbQPdxEVHu"
      }
    },
    {
      "cell_type": "code",
      "source": [
        "# 10. Dự đoán ảnh\n",
        "plt.imshow(X_test[9].reshape(28,28), cmap='gray')\n",
        "\n",
        "y_predict = model.predict(X_test[9].reshape(1,28,28,1))\n",
        "print('Giá trị dự đoán: ', np.argmax(y_predict))"
      ],
      "metadata": {
        "colab": {
          "base_uri": "https://localhost:8080/",
          "height": 282
        },
        "id": "XxfARtAEE8Er",
        "outputId": "d81e2ce7-71d1-4bed-8d15-fb18835ee8cb"
      },
      "execution_count": 23,
      "outputs": [
        {
          "output_type": "stream",
          "name": "stdout",
          "text": [
            "Giá trị dự đoán:  9\n"
          ]
        },
        {
          "output_type": "display_data",
          "data": {
            "text/plain": [
              "<Figure size 432x288 with 1 Axes>"
            ],
            "image/png": "[encoded data removed]"
          },
          "metadata": {
            "needs_background": "light"
          }
        }
      ]
    }
  ]
}